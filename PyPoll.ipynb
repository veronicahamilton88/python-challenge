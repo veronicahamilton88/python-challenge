{
 "cells": [
  {
   "cell_type": "code",
   "execution_count": 2,
   "metadata": {},
   "outputs": [],
   "source": [
    "# Import\n",
    "import os\n",
    "import csv\n"
   ]
  },
  {
   "cell_type": "code",
   "execution_count": 27,
   "metadata": {},
   "outputs": [
    {
     "name": "stdout",
     "output_type": "stream",
     "text": [
      "Election Results\n",
      "-------------------------\n",
      "Total Votes:  3521001\n",
      "-------------------------\n",
      "Khan : 63.0% (2218231)\n",
      "Correy : 20.0% (704200)\n",
      "Li : 14.0% (492940)\n",
      "O'Tooley : 3.0% (105630)\n",
      "-------------------------\n",
      " Winner: Khan\n"
     ]
    }
   ],
   "source": [
    "# Connect the data file\n",
    "election_data = os.path.join('election_data.csv')\n",
    "\n",
    "# Open and read csv file\n",
    "with open(election_data,'r') as csvfile:\n",
    "    election_data = csv.reader(csvfile, delimiter=\",\")\n",
    "    \n",
    "    # Define our variables\n",
    "    total_votes = 0\n",
    "    candidate_list = []\n",
    "    percent_won = 0.0\n",
    "    votes = 0\n",
    "    total_votes_won = 0.0\n",
    "    winner = \"\"\n",
    "    candidate_name = \"\"\n",
    "    candidate_detail = {}\n",
    "    candidate_percentage = {}\n",
    "    winner_votes = 0\n",
    "    \n",
    "    # Skip the header row\n",
    "    next(election_data)\n",
    "    \n",
    "    # Define all the rows of data\n",
    "    for row in election_data:\n",
    "        voter_id = row[0]\n",
    "        county = row[1]\n",
    "        candidate_name = row[2]\n",
    "        total_votes +=1\n",
    "        \n",
    "\n",
    "        # FIND OUT HOW MANY VOTES EACH CANDIDATE RECEIVED AND ADD TO DICTIONARY\n",
    "        # If the candidate name appears in the candidate deail\n",
    "        if candidate_name in candidate_detail:\n",
    "            # Count the candidate name as a vote\n",
    "            votes = candidate_detail.get(candidate_name)\n",
    "            # Increase the vote count by 1\n",
    "            votes +=1\n",
    "            # Add the number of votes to the dictionary\n",
    "            candidate_detail[candidate_name] = votes\n",
    "        else:\n",
    "            # If the candidate name only appears once, it just counts as 1 vote\n",
    "            candidate_detail[candidate_name] = 1    \n",
    "     \n",
    "    \n",
    "    # FIND THE PERCENTAGE WON\n",
    "    # Locating each candidate name in the candidate detail\n",
    "    for candidate_name in candidate_detail:\n",
    "        # Counting each isntance of candidate name as 1 vote\n",
    "        votes = candidate_detail.get(candidate_name)\n",
    "        # Percentage calculation\n",
    "        percent_won = (votes/total_votes) * 100\n",
    "        # Adding the percentage won to the dictionary\n",
    "        candidate_percentage[candidate_name] = percent_won\n",
    "        \n",
    "        # FIND THE WINNER\n",
    "        \n",
    "        if votes > winner_votes:\n",
    "            winner = candidate_name\n",
    "            winner_votes = votes\n",
    "        \n",
    "    # MAKE THE SUMMARY\n",
    "    print('Election Results')\n",
    "    print('-------------------------')\n",
    "    # The total number of votes cast\n",
    "    print(f'{\"Total Votes: \"} {total_votes}')\n",
    "    print('-------------------------')\n",
    "\n",
    "    for candidate_name in candidate_percentage:\n",
    "        print(f'{candidate_name} : {round(candidate_percentage.get(candidate_name),1)}% ({candidate_detail.get(candidate_name)})')\n",
    "    print('-------------------------')\n",
    "    print(f'Winner: {winner}')\n"
   ]
  },
  {
   "cell_type": "code",
   "execution_count": null,
   "metadata": {},
   "outputs": [],
   "source": []
  },
  {
   "cell_type": "code",
   "execution_count": null,
   "metadata": {},
   "outputs": [],
   "source": []
  },
  {
   "cell_type": "code",
   "execution_count": null,
   "metadata": {},
   "outputs": [],
   "source": []
  }
 ],
 "metadata": {
  "kernelspec": {
   "display_name": "Python 3",
   "language": "python",
   "name": "python3"
  },
  "language_info": {
   "codemirror_mode": {
    "name": "ipython",
    "version": 3
   },
   "file_extension": ".py",
   "mimetype": "text/x-python",
   "name": "python",
   "nbconvert_exporter": "python",
   "pygments_lexer": "ipython3",
   "version": "3.6.10"
  }
 },
 "nbformat": 4,
 "nbformat_minor": 4
}
