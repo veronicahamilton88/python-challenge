{
 "cells": [
  {
   "cell_type": "code",
   "execution_count": 3,
   "metadata": {},
   "outputs": [],
   "source": [
    "#import\n",
    "import os\n",
    "import csv\n",
    "total_profit_loss = 0.0\n",
    "total_return = 0.0\n",
    "total_months = 0\n",
    "previous_row_profit_loss = 0.0\n",
    "monthly_return = 0.0\n",
    "return_list = []"
   ]
  },
  {
   "cell_type": "code",
   "execution_count": 4,
   "metadata": {},
   "outputs": [
    {
     "name": "stdout",
     "output_type": "stream",
     "text": [
      "Total Months: 86\n",
      "Total: $38382578\n",
      "Average Change: $-2315.12\n",
      "Greatest Increase in Profits:  Feb-2012  ($1926159)\n",
      "Greatest Decrease in Profits:  Sep-2013  ($-2196167)\n"
     ]
    }
   ],
   "source": [
    "#connect the data file\n",
    "budget_data = os.path.join('budget_data.csv')\n",
    "\n",
    "#open and read csv file\n",
    "with open(budget_data,'r') as csvfile:\n",
    "    budget_data = csv.reader(csvfile, delimiter=\",\")\n",
    "\n",
    "    #skip the header row\n",
    "    next(budget_data)\n",
    "    \n",
    "    #define our variables\n",
    "    total_months = 0\n",
    "    max_return = 0.0\n",
    "    min_return = 0.0\n",
    "    month_max_return = \"\"\n",
    "    month_min_return = \"\"\n",
    "    for row in budget_data:\n",
    "        total_months +=1\n",
    "        date = row[0]\n",
    "        #cast the string value to float\n",
    "        profit_loss = float(row[1])\n",
    "        # find the total profit/loss of all\n",
    "        total_profit_loss = total_profit_loss + profit_loss\n",
    "        # find monthly return\n",
    "        if total_months != 1:\n",
    "            monthly_return = profit_loss - previous_row_profit_loss\n",
    "            return_list.append(monthly_return)\n",
    "            # check the next value against the previous max return\n",
    "            # if it is greater than the previous max return, make it the new max return\n",
    "            # if it is not greater than the previous max return, keep the same max return value\n",
    "            if monthly_return > max_return:\n",
    "                month_max_return = date\n",
    "                max_return = monthly_return\n",
    "            # same function as max return\n",
    "            if monthly_return < min_return:\n",
    "                month_min_return = date\n",
    "                min_return = monthly_return\n",
    "        else:\n",
    "            monthly_return = 0\n",
    "            \n",
    "        # total return\n",
    "        # total_return = total_return + monthly_return\n",
    "        #reset previous row\n",
    "        previous_row_profit_loss = profit_loss\n",
    "        #Find min and max profit/loss\n",
    "        # USE YOUR LIST\n",
    "        # max_profit = profit_loss.index(max(profit_loss))\n",
    "        # max_loss = profit_loss.index(min(profit_loss))\n",
    "    print(f'{\"Total Months: \"}{total_months}')\n",
    "    print(f'{\"Total: $\"}{round(total_profit_loss)}')\n",
    "    #print(total_return/total_months)\n",
    "    #print(return_list)\n",
    "    print(f'{\"Average Change: $\"}{round((sum(return_list))/len(return_list),2)}')\n",
    "    print(f'{\"Greatest Increase in Profits: \"} {month_max_return} {\" ($\"}{round(max(return_list))}{\")\"}')\n",
    "    print(f'{\"Greatest Decrease in Profits: \"} {month_min_return} {\" ($\"}{round(min(return_list))}{\")\"}')    "
   ]
  },
  {
   "cell_type": "code",
   "execution_count": null,
   "metadata": {},
   "outputs": [],
   "source": []
  },
  {
   "cell_type": "code",
   "execution_count": null,
   "metadata": {},
   "outputs": [],
   "source": []
  },
  {
   "cell_type": "code",
   "execution_count": null,
   "metadata": {},
   "outputs": [],
   "source": []
  }
 ],
 "metadata": {
  "kernelspec": {
   "display_name": "Python 3",
   "language": "python",
   "name": "python3"
  },
  "language_info": {
   "codemirror_mode": {
    "name": "ipython",
    "version": 3
   },
   "file_extension": ".py",
   "mimetype": "text/x-python",
   "name": "python",
   "nbconvert_exporter": "python",
   "pygments_lexer": "ipython3",
   "version": "3.6.10"
  }
 },
 "nbformat": 4,
 "nbformat_minor": 4
}
